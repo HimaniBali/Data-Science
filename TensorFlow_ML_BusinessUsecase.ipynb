{
 "cells": [
  {
   "cell_type": "code",
   "execution_count": 1,
   "id": "262f30cd",
   "metadata": {},
   "outputs": [],
   "source": [
    "import numpy as np\n",
    "import tensorflow as tf "
   ]
  },
  {
   "cell_type": "markdown",
   "id": "c6e9b985",
   "metadata": {},
   "source": [
    "# Data"
   ]
  },
  {
   "cell_type": "code",
   "execution_count": 3,
   "id": "09304ba5",
   "metadata": {},
   "outputs": [],
   "source": [
    "npz = np.load('Audiobooks_data_train.npz')\n",
    "\n",
    "train_inputs = npz['inputs'].astype(np.float)\n",
    "train_targets = npz['targets'].astype(np.int)\n",
    "\n",
    "npz = np.load('Audiobooks_data_validation.npz')\n",
    "validation_inputs, validation_targets = npz['inputs'].astype(np.float), npz['targets'].astype(np.int) \n",
    "\n",
    "npz = np.load('Audiobooks_data_test.npz')\n",
    "test_inputs, test_targets = npz['inputs'].astype(np.float), npz['targets'].astype(np.int)\n",
    "                                                                                            "
   ]
  },
  {
   "cell_type": "markdown",
   "id": "51d3bcb4",
   "metadata": {},
   "source": [
    "# Model "
   ]
  },
  {
   "cell_type": "markdown",
   "id": "a7563394",
   "metadata": {},
   "source": [
    "# Outline, Optimizers,loss, early stopping and training "
   ]
  },
  {
   "cell_type": "code",
   "execution_count": 14,
   "id": "5d796c47",
   "metadata": {},
   "outputs": [
    {
     "name": "stdout",
     "output_type": "stream",
     "text": [
      "Epoch 1/100\n",
      "36/36 - 0s - loss: 0.5560 - accuracy: 0.6963 - val_loss: 0.4931 - val_accuracy: 0.7204\n",
      "Epoch 2/100\n",
      "36/36 - 0s - loss: 0.4496 - accuracy: 0.7578 - val_loss: 0.4394 - val_accuracy: 0.7539\n",
      "Epoch 3/100\n",
      "36/36 - 0s - loss: 0.4086 - accuracy: 0.7795 - val_loss: 0.4285 - val_accuracy: 0.7897\n",
      "Epoch 4/100\n",
      "36/36 - 0s - loss: 0.3859 - accuracy: 0.7935 - val_loss: 0.3999 - val_accuracy: 0.7785\n",
      "Epoch 5/100\n",
      "36/36 - 0s - loss: 0.3700 - accuracy: 0.8047 - val_loss: 0.3859 - val_accuracy: 0.7875\n",
      "Epoch 6/100\n",
      "36/36 - 0s - loss: 0.3615 - accuracy: 0.8100 - val_loss: 0.3813 - val_accuracy: 0.8143\n",
      "Epoch 7/100\n",
      "36/36 - 0s - loss: 0.3551 - accuracy: 0.8131 - val_loss: 0.3801 - val_accuracy: 0.7897\n",
      "Epoch 8/100\n",
      "36/36 - 0s - loss: 0.3516 - accuracy: 0.8117 - val_loss: 0.3705 - val_accuracy: 0.7964\n",
      "Epoch 9/100\n",
      "36/36 - 0s - loss: 0.3444 - accuracy: 0.8139 - val_loss: 0.3720 - val_accuracy: 0.8031\n",
      "Epoch 10/100\n",
      "36/36 - 0s - loss: 0.3436 - accuracy: 0.8100 - val_loss: 0.3739 - val_accuracy: 0.8054\n"
     ]
    },
    {
     "data": {
      "text/plain": [
       "<tensorflow.python.keras.callbacks.History at 0x7ffbe81eaac0>"
      ]
     },
     "execution_count": 14,
     "metadata": {},
     "output_type": "execute_result"
    }
   ],
   "source": [
    "input_size = 10 \n",
    "output_size = 2\n",
    "hidden_layer_size = 50 \n",
    "\n",
    "model = tf.keras.Sequential([\n",
    "                    \n",
    "                             tf.keras.layers.Dense(hidden_layer_size, activation='relu'),\n",
    "                             tf.keras.layers.Dense(hidden_layer_size, activation='relu'),\n",
    "                             tf.keras.layers.Dense(output_size, activation='softmax')\n",
    "                           ])\n",
    "model.compile(optimizer='adam', loss='sparse_categorical_crossentropy', metrics=['accuracy'])\n",
    "\n",
    "batch_size = 100 \n",
    "\n",
    "max_epochs = 100 \n",
    "\n",
    "early_stopping = tf.keras.callbacks.EarlyStopping(patience = 2)\n",
    "\n",
    "model.fit(train_inputs,\n",
    "         train_targets,\n",
    "         batch_size = batch_size,\n",
    "         epochs = max_epochs,\n",
    "         callbacks = [early_stopping],\n",
    "         validation_data = (validation_inputs, validation_targets),\n",
    "         verbose = 2) "
   ]
  },
  {
   "cell_type": "markdown",
   "id": "24dd8b50",
   "metadata": {},
   "source": [
    "# Test the Model"
   ]
  },
  {
   "cell_type": "code",
   "execution_count": 15,
   "id": "d542ce21",
   "metadata": {},
   "outputs": [
    {
     "name": "stdout",
     "output_type": "stream",
     "text": [
      "14/14 [==============================] - 0s 1ms/step - loss: 0.3653 - accuracy: 0.8013\n"
     ]
    }
   ],
   "source": [
    "test_loss, test_accuracy = model.evaluate(test_inputs, test_targets)"
   ]
  },
  {
   "cell_type": "code",
   "execution_count": null,
   "id": "7cd10d74",
   "metadata": {},
   "outputs": [],
   "source": [
    "print('\\nTest loss: {0:.2f}. Test accuracy: {1:.2f}%').format(test_loss, test_accuracy*100)"
   ]
  },
  {
   "cell_type": "code",
   "execution_count": null,
   "id": "82e6866f",
   "metadata": {},
   "outputs": [],
   "source": [
    "\n"
   ]
  },
  {
   "cell_type": "code",
   "execution_count": null,
   "id": "f355be93",
   "metadata": {},
   "outputs": [],
   "source": []
  },
  {
   "cell_type": "code",
   "execution_count": null,
   "id": "47757c68",
   "metadata": {},
   "outputs": [],
   "source": []
  }
 ],
 "metadata": {
  "kernelspec": {
   "display_name": "Python 3",
   "language": "python",
   "name": "python3"
  },
  "language_info": {
   "codemirror_mode": {
    "name": "ipython",
    "version": 3
   },
   "file_extension": ".py",
   "mimetype": "text/x-python",
   "name": "python",
   "nbconvert_exporter": "python",
   "pygments_lexer": "ipython3",
   "version": "3.8.8"
  }
 },
 "nbformat": 4,
 "nbformat_minor": 5
}
