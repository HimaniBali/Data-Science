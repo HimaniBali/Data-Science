{
 "cells": [
  {
   "cell_type": "markdown",
   "id": "cd793f41",
   "metadata": {},
   "source": [
    "# Creating a Table with PostgreSQL"
   ]
  },
  {
   "cell_type": "code",
   "execution_count": 1,
   "id": "b1906ae4",
   "metadata": {},
   "outputs": [],
   "source": [
    "import psycopg2"
   ]
  },
  {
   "cell_type": "code",
   "execution_count": null,
   "id": "3af41a8f",
   "metadata": {},
   "outputs": [
    {
     "name": "stdout",
     "output_type": "stream",
     "text": [
      "Password:"
     ]
    }
   ],
   "source": [
    "!echo \"alter user student createdb;\" | sudo -u postgres psql"
   ]
  },
  {
   "cell_type": "markdown",
   "id": "8ebc02cc",
   "metadata": {},
   "source": [
    "# Create a Connection to the Database"
   ]
  },
  {
   "cell_type": "code",
   "execution_count": null,
   "id": "9fc90cf7",
   "metadata": {},
   "outputs": [],
   "source": [
    "try: \n",
    "    conn = psycopg2.connect(\"host=127.0.0.1 dbname=studentdb user=student password=student\")\n",
    "except psycopg2.Error as e: \n",
    "    print(\"Error: Could not make connection to the Postgres database\")\n",
    "    print(e)"
   ]
  },
  {
   "cell_type": "markdown",
   "id": "920672e4",
   "metadata": {},
   "source": [
    "# Use connection to get a Cursor to execute queries"
   ]
  },
  {
   "cell_type": "code",
   "execution_count": null,
   "id": "f357bb7d",
   "metadata": {},
   "outputs": [],
   "source": [
    "try: \n",
    "    cur = conn.cursor()\n",
    "except psycopg2.Error as e: \n",
    "    print(\"Error: Could not get curser to the Database\")\n",
    "    print(e)"
   ]
  },
  {
   "cell_type": "markdown",
   "id": "231bc5c2",
   "metadata": {},
   "source": [
    "# Set automatic commit to be true so that each action is committed without having to call conn.commit() after each command"
   ]
  },
  {
   "cell_type": "code",
   "execution_count": null,
   "id": "319166d0",
   "metadata": {},
   "outputs": [],
   "source": [
    "conn.set_session(autocommit = True)"
   ]
  },
  {
   "cell_type": "markdown",
   "id": "8efb1e98",
   "metadata": {},
   "source": [
    "# Create a database"
   ]
  },
  {
   "cell_type": "code",
   "execution_count": null,
   "id": "2f622549",
   "metadata": {},
   "outputs": [],
   "source": [
    "try: \n",
    "    cur.execute(\"create database Udacity\")\n",
    "except psycopg2.Error as e:\n",
    "    print(e)"
   ]
  },
  {
   "cell_type": "code",
   "execution_count": null,
   "id": "58dd495b",
   "metadata": {},
   "outputs": [],
   "source": [
    "try: \n",
    "    conn.close()\n",
    "except psycopg2.Error as e:\n",
    "    print(e)\n",
    "    \n",
    "try: \n",
    "    conn = psycopg2.connect(\"host=127.0.0.1 dbname=##### user=student password=student\")\n",
    "except psycopg2.Error as e: \n",
    "    print(\"Error: Could not make connection to the Postgres database\")\n",
    "    print(e)\n",
    "    \n",
    "try: \n",
    "    cur = conn.cursor()\n",
    "except psycopg2.Error as e: \n",
    "    print(\"Error: Could not get curser to the Database\")\n",
    "    print(e)\n",
    "\n",
    "conn.set_session(autocommit=True)"
   ]
  },
  {
   "cell_type": "markdown",
   "id": "a4b8278a",
   "metadata": {},
   "source": [
    "# Create a Table : Song with attributes : song title, artist, year, album, single"
   ]
  },
  {
   "cell_type": "code",
   "execution_count": null,
   "id": "fa1b9974",
   "metadata": {},
   "outputs": [],
   "source": [
    "try: \n",
    "    cur.execute(\"CREATE TABLE IF NOT EXISTS songs (song_title varchar, artist_name varchar, year int, album_name varchar, single boolean);\")\n",
    "except psycopg2.Error as e: \n",
    "    print(\"Error: Issue creating table\")\n",
    "    print (e)"
   ]
  },
  {
   "cell_type": "markdown",
   "id": "d6068449",
   "metadata": {},
   "source": [
    "# Check if Table is Created"
   ]
  },
  {
   "cell_type": "code",
   "execution_count": null,
   "id": "8b96ed5b",
   "metadata": {},
   "outputs": [],
   "source": [
    "try: \n",
    "    cur.execute(\"select count(*) from songs\")\n",
    "except psycopg2.Error as e: \n",
    "    print(\"Error: Issue creating table\")\n",
    "    print (e)\n",
    "print(cur.fetchall()) "
   ]
  },
  {
   "cell_type": "markdown",
   "id": "ce23273b",
   "metadata": {},
   "source": [
    "# Insert Rows"
   ]
  },
  {
   "cell_type": "code",
   "execution_count": null,
   "id": "e42fadae",
   "metadata": {},
   "outputs": [],
   "source": [
    "try: \n",
    "    cur.execute(\"INSERT INTO songs(song_title varchar, artist_name varchar, year int, album_name varchar, single boolean) \\\n",
    "                 VALUES (%s, %s, %s, %s, %s)\", \\\n",
    "                 (\"Across The Universe\", \"The Beatles\", \"1970\", \"False\", \"Let It Be\",False))\n",
    "except psycopg2.Error as e: \n",
    "    print(\"Error: Inserting Rows\")\n",
    "    print (e)\n",
    "    \n",
    "try: \n",
    "    cur.execute(\"INSERT INTO songs (song_title varchar, artist_name varchar, year int, album_name varchar, single boolean) \\\n",
    "                  VALUES (%s, %s, %s, %s, %s)\",\n",
    "                  (\"The Beatles\", \"Think For Yourself\", \"False\", \"1965\", \"Rubber Soul\",False))\n",
    "except psycopg2.Error as e: \n",
    "    print(\"Error: Inserting Rows\")\n",
    "    print (e)\n",
    "    \n"
   ]
  },
  {
   "cell_type": "markdown",
   "id": "e1550183",
   "metadata": {},
   "source": [
    "# Validate if data was inserted "
   ]
  },
  {
   "cell_type": "code",
   "execution_count": null,
   "id": "dd706981",
   "metadata": {},
   "outputs": [],
   "source": [
    "try: \n",
    "    cur.execute(\"SELECT * FROM songs;\")\n",
    "except psycopg2.Error as e: \n",
    "    print(\"Error: Select *\")\n",
    "    print (e)\n",
    "    \n",
    "row = cur.fetchone()\n",
    "while row: \n",
    "    print(row)\n",
    "    row = cur.fethone()"
   ]
  },
  {
   "cell_type": "code",
   "execution_count": null,
   "id": "044e342d",
   "metadata": {},
   "outputs": [],
   "source": [
    "conn.close()"
   ]
  },
  {
   "cell_type": "code",
   "execution_count": null,
   "id": "12edc37b",
   "metadata": {},
   "outputs": [],
   "source": [
    "cur.close()"
   ]
  },
  {
   "cell_type": "code",
   "execution_count": null,
   "id": "7cfeea62",
   "metadata": {},
   "outputs": [],
   "source": []
  },
  {
   "cell_type": "code",
   "execution_count": null,
   "id": "78f29f5d",
   "metadata": {},
   "outputs": [],
   "source": []
  }
 ],
 "metadata": {
  "kernelspec": {
   "display_name": "Python 3",
   "language": "python",
   "name": "python3"
  },
  "language_info": {
   "codemirror_mode": {
    "name": "ipython",
    "version": 3
   },
   "file_extension": ".py",
   "mimetype": "text/x-python",
   "name": "python",
   "nbconvert_exporter": "python",
   "pygments_lexer": "ipython3",
   "version": "3.8.8"
  }
 },
 "nbformat": 4,
 "nbformat_minor": 5
}
