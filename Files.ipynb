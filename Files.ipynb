{
 "cells": [
  {
   "cell_type": "code",
   "execution_count": 90,
   "id": "40ebaddc",
   "metadata": {},
   "outputs": [],
   "source": [
    "import urllib.request\n",
    "import json\n",
    "from html.parser import HTMLParser"
   ]
  },
  {
   "cell_type": "code",
   "execution_count": 91,
   "id": "c3ceb657",
   "metadata": {},
   "outputs": [
    {
     "name": "stdout",
     "output_type": "stream",
     "text": [
      "result code: 200\n",
      "b'<!doctype html><html dir=\"rtl\" itemscope=\"\" itemtype=\"http://schema.org/WebPage\" lang=\"ar-AE\"><head><meta content=\"text/html; charset=UTF-8\" http-equiv=\"Content-Type\"><meta content=\"/images/branding/googleg/1x/googleg_standard_color_128dp.png\" itemprop=\"image\"><title>Google</title><script nonce=\"X3xLoCg540Zai2VbPahRag==\">(function(){window.google={kEI:\\'zyE7YeSMIr6bwbkP7ue6eA\\',kEXPI:\\'0,772215,1,530320,56873,954,5104,207,4804,2316,383,246,5,1354,5251,1122515,1197779,503,119,328866,51223,16112,17447,11240,17572,4859,1361,9290,3027,12741,4841,4998,13228,3847,4192,6430,7432,11612,2778,919,5081,1593,1279,2212,530,149,1103,840,2196,4101,109,3405,606,2023,1777,520,14670,3227,2846,6,12354,5096,16320,908,2,941,6397,9359,3,576,6460,148,13975,4,1528,2304,1240,1,5222,576,4683,2015,13611,4764,2658,4243,2458,655,31,11412,2216,2307,636,7080,3772,7428,2521,3306,2530,992,3102,17,3121,6,908,3,3541,1,14716,1808,283,38,876,5990,16728,1715,2,3057,302,5864,4799,1931,3909,409,1271,743,5853,1576,3,471,7271,1142,1160,1269,5138,293,2380,2719,4001,2,542,3,125,3854,68,1426,4148,487,1214,2372,2,6,174,2,7596,1933,191,2445,1596,981,1765,1023,332,558,2471,2899,756,509,270,626,1970,335,665,2,2388,3323,331,140,1108,2,287,319,27,202,199,35,35,640,15,1248,1123,439,18,1586,510,549,138,824,301,817,963,53,59,197,1522,106,40,84,1246,2,665,183,2,143,108,1044,145,111,466,267,8,157,2157,3,312,5579608,190,256,72,11,77,46,75,5996067,521,206,2800490,882,444,1,2,80,1,1796,1,9,2553,1,748,141,795,563,1,4265,1,1,2,1331,4142,2609,155,17,13,72,139,4,2,20,2,169,13,19,46,5,39,96,548,29,2,2,1,2,1,2,2,7,4,1,2,2,2,2,2,2,353,513,186,1,1,158,3,2,2,2,2,2,4,2,3,3,269,364,111,2,24,9,4,6,24,3,7,23954169,4041351,338,3,2414,448,2,463,172,406,9,3239,676,860,800231\\',kBL:\\'luCR\\'};google.sn=\\'webhp\\';google.kHL=\\'ar-AE\\';})();(function(){\\nvar f=this||self;var h,k=[];function l(a){for(var b;a&&(!a.getAttribute||!(b=a.getAttribute(\"eid\")));)a=a.parentNode;return b||h}function m(a){for(var b=null;a&&(!a.getAttribute||!(b=a.getAttribute(\"leid\")));)a=a.parentNode;return b}\\nfunction n(a,b,c,d,g){var e=\"\";c||-1!==b.search(\"&ei=\")||(e=\"&ei=\"+l(d),-1===b.search(\"&lei=\")&&(d=m(d))&&(e+=\"&lei=\"+d));d=\"\";!c&&f._cshid&&-1===b.search(\"&cshid=\")&&\"slh\"!==a&&(d=\"&cshid=\"+f._cshid);c=c||\"/\"+(g||\"gen_204\")+\"?atyp=i&ct=\"+a+\"&cad=\"+b+e+\"&zx=\"+Date.now()+d;/^http:/i.test(c)&&\"https:\"===window.location.protocol&&(google.ml&&google.ml(Error(\"a\"),!1,{src:c,glmm:1}),c=\"\");return c};h=google.kEI;google.getEI=l;google.getLEI=m;google.ml=function(){return null};google.log=function(a,b,c,d,g){if(c=n(a,b,c,d,g)){a=new Image;var e=k.length;k[e]=a;a.onerror=a.onload=a.onabort=function(){delete k[e]};a.src=c}};google.logUrl=n;}).call(this);(function(){\\ngoogle.y={};google.sy=[];google.x=function(a,b){if(a)var c=a.id;else{do c=Math.random();while(google.y[c])}google.y[c]=[a,b];return!1};google.sx=function(a){google.sy.push(a)};google.lm=[];google.plm=function(a){google.lm.push.apply(google.lm,a)};google.lq=[];google.load=function(a,b,c){google.lq.push([[a],b,c])};google.loadAll=function(a,b){google.lq.push([a,b])};google.bx=!1;google.lx=function(){};}).call(this);google.f={};(function(){\\ndocument.documentElement.addEventListener(\"submit\",function(b){var a;if(a=b.target){var c=a.getAttribute(\"data-submitfalse\");a=\"1\"===c||\"q\"===c&&!a.elements.q.value?!0:!1}else a=!1;a&&(b.preventDefault(),b.stopPropagation())},!0);document.documentElement.addEventListener(\"click\",function(b){var a;a:{for(a=b.target;a&&a!==document.documentElement;a=a.parentElement)if(\"A\"===a.tagName){a=\"1\"===a.getAttribute(\"data-nohref\");break a}a=!1}a&&b.preventDefault()},!0);}).call(this);</script><style>#gbar,#guser{font-size:13px;padding-top:1px !important;}#gbar{height:22px}#guser{padding-bottom:7px !important;text-align:left}.gbh,.gbd{border-top:1px solid #c9d7f1;font-size:1px}.gbh{height:0;position:absolute;top:24px;width:100%}@media all{.gb1{height:22px;margin-left:.5em;vertical-align:top}#gbar{float:right}}a.gb1,a.gb4{text-decoration:underline !important}a.gb1,a.gb4{color:#00c !important}.gbi .gb4{color:#dd8e27 !important}.gbf .gb4{color:#900 !important}\\n</style><style>body,td,a,p,.h{font-family:arial,sans-serif}body{margin:0;overflow-y:scroll}#gog{padding:3px 8px 0}td{line-height:.8em}.gac_m td{line-height:17px}form{margin-bottom:20px}.h{color:#1558d6}em{font-weight:bold;font-style:normal}.lst{height:25px;width:496px}.gsfi,.lst{font:18px arial,sans-serif}.gsfs{font:17px arial,sans-serif}.ds{display:inline-box;display:inline-block;margin:3px 0 4px;margin-right:4px}input{font-family:inherit}body{background:#fff;color:#000}a{color:#4b11a8;text-decoration:none}a:hover,a:active{text-decoration:underline}.fl a{color:#1558d6}a:visited{color:#4b11a8}.sblc{padding-top:5px}.sblc a{display:block;margin:2px 0;margin-right:13px;font-size:11px}.lsbb{background:#f8f9fa;border:solid 1px;border-color:#dadce0 #dadce0 #70757a #70757a;height:30px}.lsbb{display:block}#WqQANb a{display:inline-block;margin:0 12px}.lsb{background:url(/images/nav_logo229.png) 0 -261px repeat-x;border:none;color:#000;cursor:pointer;height:30px;margin:0;outline:0;font:15px arial,sans-serif;vertical-align:top}.lsb:active{background:#dadce0}.lst:focus{outline:none}.tiah{width:458px}</style><script nonce=\"X3xLoCg540Zai2VbPahRag==\">(function(){window.google.erd={sp:\\'hp\\',jsr:0,bv:106};\\nvar f=this||self;var g,h,k=null!==(g=f.mei)&&void 0!==g?g:1,l=null!==(h=f.sdo)&&void 0!==h?h:!0,n=0,p,q=google.erd,t=q.jsr;google.ml=function(a,b,e,m,d){d=void 0===d?2:d;b&&(p=a&&a.message);if(google.dl)return google.dl(a,d,e),null;if(0>t){window.console&&console.error(a,e);if(-2===t)throw a;b=!1}else b=!a||!a.message||\"Error loading script\"===a.message||n>=k&&!m?!1:!0;if(!b)return null;n++;e=e||{};b=encodeURIComponent;var c=\"/gen_204?atyp=i&ei=\"+b(google.kEI);google.kEXPI&&(c+=\"&jexpid=\"+b(google.kEXPI));c+=\"&srcpg=\"+b(q.sp)+\"&jsr=\"+b(q.jsr)+\"&bver=\"+b(q.bv)+(\"&jsel=\"+d);c+=\"&sn=\"+b(google.sn);for(var r in e)c+=\"&\",c+=b(r),c+=\"=\",c+=b(e[r]);c=c+\"&emsg=\"+b(a.name+\": \"+a.message);c=c+\"&jsst=\"+b(a.stack||\"N/A\");12288<=c.length&&(c=c.substr(0,12288));a=c;m||google.log(0,\"\",a);return a};window.onerror=function(a,b,e,m,d){p!==a&&google.ml(d instanceof Error?d:Error(a),!1,void 0,!1,google.dl?0:2);p=null;l&&n>=k&&(window.onerror=null)};})();</script></head><body bgcolor=\"#fff\"><script nonce=\"X3xLoCg540Zai2VbPahRag==\">(function(){var src=\\'/images/nav_logo229.png\\';var iesg=false;document.body.onload = function(){window.n && window.n();if (document.images){new Image().src=src;}\\nif (!iesg){document.f&&document.f.q.focus();document.gbqf&&document.gbqf.q.focus();}\\n}\\n})();</script><div id=\"mngb\"><div id=gbar><nobr><b class=gb1>&#1576;&#1581;&#1579;</b> <a class=gb1 href=\"https://www.google.ae/imghp?hl=ar&tab=wi\">&#1589;&#1608;&#1585;</a> <a class=gb1 href=\"https://maps.google.ae/maps?hl=ar&tab=wl\">&#1582;&#1585;&#1575;&#1574;&#1591; Google</a> <a class=gb1 href=\"https://www.youtube.com/?gl=AE&tab=w1\">YouTube</a> <a class=gb1 href=\"https://news.google.com/?tab=wn\">&#1575;&#1604;&#1571;&#1582;&#1576;&#1575;&#1585;</a> <a class=gb1 href=\"https://mail.google.com/mail/?tab=wm\">Gmail</a> <a class=gb1 href=\"https://drive.google.com/?tab=wo\">Drive</a> <a class=gb1 href=\"https://calendar.google.com/calendar?tab=wc\">&#1578;&#1602;&#1608;&#1610;&#1605;</a> <a class=gb1 style=\"text-decoration:none\" href=\"https://www.google.ae/intl/ar/about/products?tab=wh\"><u>&#1575;&#1604;&#1605;&#1586;&#1610;&#1583;</u> &raquo;</a></nobr></div><div id=guser width=100%><nobr><span id=gbn class=gbi></span><span id=gbf class=gbf></span><span id=gbe></span><a href=\"http://www.google.ae/history/optout?hl=ar\" class=gb4>&#1587;&#1616;&#1580;&#1604; &#1576;&#1581;&#1579; &#1575;&#1604;&#1608;&#1610;&#1576;</a> | <a  href=\"/preferences?hl=ar\" class=gb4>&#1575;&#1604;&#1573;&#1593;&#1583;&#1575;&#1583;&#1575;&#1578;</a> | <a target=_top id=gb_70 href=\"https://accounts.google.com/ServiceLogin?hl=ar&passive=true&continue=https://www.google.com/&ec=GAZAAQ\" class=gb4>&#1578;&#1587;&#1580;&#1610;&#1604; &#1575;&#1604;&#1583;&#1582;&#1608;&#1604;</a></nobr></div><div class=gbh style=left:0></div><div class=gbh style=right:0></div></div><center><br clear=\"all\" id=\"lgpd\"><div id=\"lga\"><img alt=\"Google\" height=\"92\" src=\"/images/branding/googlelogo/1x/googlelogo_white_background_color_272x92dp.png\" style=\"padding:28px 0 14px\" width=\"272\" id=\"hplogo\"><br><br></div><form action=\"/search\" name=\"f\"><table cellpadding=\"0\" cellspacing=\"0\"><tr valign=\"top\"><td width=\"25%\">&nbsp;</td><td align=\"center\" nowrap=\"\"><input name=\"ie\" value=\"ISO-8859-1\" type=\"hidden\"><input value=\"ar-AE\" name=\"hl\" type=\"hidden\"><input name=\"source\" type=\"hidden\" value=\"hp\"><input name=\"biw\" type=\"hidden\"><input name=\"bih\" type=\"hidden\"><div class=\"ds\" style=\"height:32px;margin:4px 0\"><div style=\"position:relative;zoom:1\"><input class=\"lst tiah\" style=\"margin:0;padding:5px 6px 0 8px;vertical-align:top;color:#000;padding-left:38px\" autocomplete=\"off\" value=\"\" title=\"&#1576;&#1581;&#1579; Google\" maxlength=\"2048\" name=\"q\" size=\"57\"><img src=\"/textinputassistant/tia.png\" style=\"position:absolute;cursor:pointer;left:5px;top:4px;z-index:300\" data-script-url=\"/textinputassistant/11/ar_tia.js\" id=\"tsuid1\" alt=\"\" height=\"23\" width=\"27\"><script nonce=\"X3xLoCg540Zai2VbPahRag==\">(function(){var id=\\'tsuid1\\';document.getElementById(id).onclick = function(){var s = document.createElement(\\'script\\');s.src = this.getAttribute(\\'data-script-url\\');(document.getElementById(\\'xjsc\\')||document.body).appendChild(s);};})();</script></div></div><br style=\"line-height:0\"><span class=\"ds\"><span class=\"lsbb\"><input class=\"lsb\" value=\"&#1576;&#1581;&#1579; Google\" name=\"btnG\" type=\"submit\"></span></span><span class=\"ds\"><span class=\"lsbb\"><input class=\"lsb\" id=\"tsuid2\" value=\"&#1590;&#1585;&#1576;&#1577; &#1581;&#1592;\" name=\"btnI\" type=\"submit\"><script nonce=\"X3xLoCg540Zai2VbPahRag==\">(function(){var id=\\'tsuid2\\';document.getElementById(id).onclick = function(){if (this.form.q.value){this.checked = 1;if (this.form.iflsig)this.form.iflsig.disabled = false;}\\nelse top.location=\\'/doodles/\\';};})();</script><input value=\"ALs-wAMAAAAAYTsv3071JiArFqjiZGZUMf_69cwwitx1\" name=\"iflsig\" type=\"hidden\"></span></span></td><td class=\"fl sblc\" align=\"right\" nowrap=\"\" width=\"25%\"><a href=\"/advanced_search?hl=ar-AE&amp;authuser=0\">&#1576;&#1581;&#1579; &#1605;&#1578;&#1602;&#1583;&#1605;</a></td></tr></table><input id=\"gbv\" name=\"gbv\" type=\"hidden\" value=\"1\"><script nonce=\"X3xLoCg540Zai2VbPahRag==\">(function(){\\nvar a,b=\"1\";if(document&&document.getElementById)if(\"undefined\"!=typeof XMLHttpRequest)b=\"2\";else if(\"undefined\"!=typeof ActiveXObject){var c,d,e=[\"MSXML2.XMLHTTP.6.0\",\"MSXML2.XMLHTTP.3.0\",\"MSXML2.XMLHTTP\",\"Microsoft.XMLHTTP\"];for(c=0;d=e[c++];)try{new ActiveXObject(d),b=\"2\"}catch(h){}}a=b;if(\"2\"==a&&-1==location.search.indexOf(\"&gbv=2\")){var f=google.gbvu,g=document.getElementById(\"gbv\");g&&(g.value=a);f&&window.setTimeout(function(){location.href=f},0)};}).call(this);</script></form><div id=\"gac_scont\"></div><div style=\"font-size:83%;min-height:3.5em\"><br><div id=\"gws-output-pages-elements-homepage_additional_languages__als\"><style>#gws-output-pages-elements-homepage_additional_languages__als{font-size:small;margin-bottom:24px}#SIvCob{color:#3c4043;display:inline-block;line-height:28px;}#SIvCob a{padding:0 3px;}.H6sW5{display:inline-block;margin:0 2px;white-space:nowrap}.z4hgWe{display:inline-block;margin:0 2px}</style><div id=\"SIvCob\">&#1605;&#1581;&#1585;&#1617;&#1603; &#1576;&#1581;&#1579; Google &#1605;&#1578;&#1608;&#1601;&#1617;&#1585; &#1576;&#1575;&#1604;&#1604;&#1594;&#1577;:  <a href=\"https://www.google.com/setprefs?sig=0_w9VqiTDNt9ex-73OFD7Nb9lzaZE%3D&amp;hl=fa&amp;source=homepage&amp;sa=X&amp;ved=0ahUKEwiksKXFiPTyAhW-TTABHe6zDg8Q2ZgBCAU\">&#1601;&#1575;&#1585;&#1587;&#1740;</a>    <a dir=\"ltr\" href=\"https://www.google.com/setprefs?sig=0_w9VqiTDNt9ex-73OFD7Nb9lzaZE%3D&amp;hl=en&amp;source=homepage&amp;sa=X&amp;ved=0ahUKEwiksKXFiPTyAhW-TTABHe6zDg8Q2ZgBCAY\">English</a>    <a dir=\"ltr\" href=\"https://www.google.com/setprefs?sig=0_w9VqiTDNt9ex-73OFD7Nb9lzaZE%3D&amp;hl=hi&amp;source=homepage&amp;sa=X&amp;ved=0ahUKEwiksKXFiPTyAhW-TTABHe6zDg8Q2ZgBCAc\">&#2361;&#2367;&#2344;&#2381;&#2342;&#2368;</a>    <a href=\"https://www.google.com/setprefs?sig=0_w9VqiTDNt9ex-73OFD7Nb9lzaZE%3D&amp;hl=ur&amp;source=homepage&amp;sa=X&amp;ved=0ahUKEwiksKXFiPTyAhW-TTABHe6zDg8Q2ZgBCAg\">&#1575;&#1585;&#1583;&#1608;</a>  </div></div></div><span id=\"footer\"><div style=\"font-size:10pt\"><div style=\"margin:19px auto;text-align:center\" id=\"WqQANb\"><a href=\"/intl/ar/ads/\">&#1575;&#1604;&#1576;&#1585;&#1606;&#1575;&#1605;&#1580; &#1575;&#1604;&#1573;&#1593;&#1604;&#1575;&#1606;&#1610;</a><a href=\"http://www.google.com/intl/ar/services/\">&#1581;&#1604;&#1608;&#1604; &#1575;&#1604;&#1588;&#1585;&#1603;&#1575;&#1578;</a><a href=\"/intl/ar/about.html\">&#1603;&#1604; &#1605;&#1575; &#1578;&#1581;&#1576; &#1605;&#1593;&#1585;&#1601;&#1578;&#1607; &#1593;&#1606; Google &#1607;&#1606;&#1575;</a><a dir=\"ltr\" href=\"https://www.google.com/setprefdomain?prefdom=AE&amp;prev=https://www.google.ae/&amp;sig=K_pjnckJv-99eC6Hj0cQl80SBDKFI%3D\">Google.ae</a></div></div><p style=\"font-size:8pt;color:#70757a\">&copy; 2021 - <a href=\"/intl/ar/policies/privacy/\">&#1575;&#1604;&#1582;&#1589;&#1608;&#1589;&#1610;&#1577;</a> - <a href=\"/intl/ar/policies/terms/\">&#1575;&#1604;&#1576;&#1606;&#1608;&#1583;</a></p></span></center><script nonce=\"X3xLoCg540Zai2VbPahRag==\">(function(){window.google.cdo={height:757,width:1440};(function(){\\nvar a=window.innerWidth,b=window.innerHeight;if(!a||!b){var c=window.document,d=\"CSS1Compat\"==c.compatMode?c.documentElement:c.body;a=d.clientWidth;b=d.clientHeight}a&&b&&(a!=google.cdo.width||b!=google.cdo.height)&&google.log(\"\",\"\",\"/client_204?&atyp=i&biw=\"+a+\"&bih=\"+b+\"&ei=\"+google.kEI);}).call(this);})();</script> <script nonce=\"X3xLoCg540Zai2VbPahRag==\">(function(){google.xjs={ck:\\'\\',cs:\\'\\',excm:[]};})();</script>  <script nonce=\"X3xLoCg540Zai2VbPahRag==\">(function(){var u=\\'/xjs/_/js/k\\\\x3dxjs.hp.en.OTBwwT-0FTo.O/am\\\\x3dAPgEWA/d\\\\x3d1/ed\\\\x3d1/rs\\\\x3dACT90oEVyqjVDqJSZjX-hmdsPHVmmlC1-A/m\\\\x3dsb_he,d\\';\\nvar e=this||self,f=function(a){return a};var g;var l=function(a,b){this.g=b===h?a:\"\"};l.prototype.toString=function(){return this.g+\"\"};var h={};function m(){var a=u;google.lx=function(){n(a);google.lx=function(){}};google.bx||google.lx()}\\nfunction n(a){google.timers&&google.timers.load&&google.tick&&google.tick(\"load\",\"xjsls\");var b=document;var c=\"SCRIPT\";\"application/xhtml+xml\"===b.contentType&&(c=c.toLowerCase());c=b.createElement(c);if(void 0===g){b=null;var k=e.trustedTypes;if(k&&k.createPolicy){try{b=k.createPolicy(\"goog#html\",{createHTML:f,createScript:f,createScriptURL:f})}catch(p){e.console&&e.console.error(p.message)}g=b}else g=b}a=(b=g)?b.createScriptURL(a):a;a=new l(a,h);c.src=a instanceof l&&a.constructor===l?a.g:\"type_error:TrustedResourceUrl\";var d;a=(c.ownerDocument&&c.ownerDocument.defaultView||window).document;(d=(b=null===(d=a.querySelector)||void 0===d?void 0:d.call(a,\"script[nonce]\"))?b.nonce||b.getAttribute(\"nonce\")||\"\":\"\")&&c.setAttribute(\"nonce\",d);document.body.appendChild(c);google.psa=!0};setTimeout(function(){m()},0);})();(function(){window.google.xjsu=\\'/xjs/_/js/k\\\\x3dxjs.hp.en.OTBwwT-0FTo.O/am\\\\x3dAPgEWA/d\\\\x3d1/ed\\\\x3d1/rs\\\\x3dACT90oEVyqjVDqJSZjX-hmdsPHVmmlC1-A/m\\\\x3dsb_he,d\\';})();function _DumpException(e){throw e;}\\nfunction _F_installCss(c){}\\n(function(){google.jl={attn:false,blt:\\'none\\',chnk:0,dw:false,emtn:0,end:0,ine:false,lls:\\'default\\',pdt:0,rep:0,sif:true,snet:true,strt:0,ubm:false,uwp:true};})();(function(){var pmc=\\'{\\\\x22d\\\\x22:{},\\\\x22sb_he\\\\x22:{\\\\x22agen\\\\x22:true,\\\\x22cgen\\\\x22:true,\\\\x22client\\\\x22:\\\\x22heirloom-hp\\\\x22,\\\\x22dh\\\\x22:true,\\\\x22dhqt\\\\x22:true,\\\\x22ds\\\\x22:\\\\x22\\\\x22,\\\\x22ffql\\\\x22:\\\\x22en\\\\x22,\\\\x22fl\\\\x22:true,\\\\x22host\\\\x22:\\\\x22google.com\\\\x22,\\\\x22isbh\\\\x22:28,\\\\x22jsonp\\\\x22:true,\\\\x22msgs\\\\x22:{\\\\x22cibl\\\\x22:\\\\x22&#1605;&#1581;&#1608; &#1575;&#1604;&#1576;&#1581;&#1579;\\\\x22,\\\\x22dym\\\\x22:\\\\x22&#1607;&#1604; &#1578;&#1602;&#1589;&#1583; :\\\\x22,\\\\x22lcky\\\\x22:\\\\x22&#1590;&#1585;&#1576;&#1577; &#1581;&#1592;\\\\x22,\\\\x22lml\\\\x22:\\\\x22&#1605;&#1586;&#1610;&#1583; &#1605;&#1606; &#1575;&#1604;&#1605;&#1593;&#1604;&#1608;&#1605;&#1575;&#1578;\\\\x22,\\\\x22oskt\\\\x22:\\\\x22&#1571;&#1583;&#1608;&#1575;&#1578; &#1575;&#1604;&#1573;&#1583;&#1582;&#1575;&#1604;\\\\x22,\\\\x22psrc\\\\x22:\\\\x22&#1578;&#1605;&#1578; &#1573;&#1586;&#1575;&#1604;&#1577; &#1607;&#1584;&#1575; &#1575;&#1604;&#1576;&#1581;&#1579; &#1605;&#1606; \\\\\\\\u003Ca href\\\\x3d\\\\\\\\\\\\x22/history\\\\\\\\\\\\x22\\\\\\\\u003E&#1587;&#1616;&#1580;&#1604; &#1575;&#1604;&#1576;&#1581;&#1579;\\\\\\\\u003C/a\\\\\\\\u003E.\\\\x22,\\\\x22psrl\\\\x22:\\\\x22&#1573;&#1586;&#1575;&#1604;&#1577;\\\\x22,\\\\x22sbit\\\\x22:\\\\x22&#1575;&#1604;&#1576;&#1581;&#1579; &#1576;&#1581;&#1587;&#1576; &#1575;&#1604;&#1589;&#1608;&#1585;\\\\x22,\\\\x22srch\\\\x22:\\\\x22&#1576;&#1581;&#1579; Google\\\\u200f\\\\x22},\\\\x22ovr\\\\x22:{},\\\\x22pq\\\\x22:\\\\x22\\\\x22,\\\\x22refpd\\\\x22:true,\\\\x22rfs\\\\x22:[],\\\\x22sbas\\\\x22:\\\\x220 3px 8px 0 rgba(0,0,0,0.2),0 0 0 1px rgba(0,0,0,0.08)\\\\x22,\\\\x22sbpl\\\\x22:16,\\\\x22sbpr\\\\x22:16,\\\\x22scd\\\\x22:10,\\\\x22stok\\\\x22:\\\\x22TkGK-ONmObeUFJ68mSyj5rI-SIc\\\\x22,\\\\x22uhde\\\\x22:false}}\\';google.pmc=JSON.parse(pmc);})();</script>        </body></html>'\n"
     ]
    }
   ],
   "source": [
    "\n",
    "    webUrl = urllib.request.urlopen(\"https://www.google.com/\")\n",
    "    print(\"result code: \" + str(webUrl.getcode()) )\n",
    "    data = webUrl.read()\n",
    "    print(data)\n",
    "    \n"
   ]
  },
  {
   "cell_type": "code",
   "execution_count": 92,
   "id": "7e78eec1",
   "metadata": {},
   "outputs": [],
   "source": [
    "# f = open(\"textfile.txt\",\"w+\") #plus means if it doesn't exist create it\n",
    "f = open(\"textfile.txt\",\"a\") # append data \"a\"\n",
    "#f = open(\"textfile.txt\",\"r\")# append data \"r\"\n",
    "for i in range(10):\n",
    "    f.write(\"This is a line\" + str(i) + \"\\r\\n\")\n",
    "\n",
    "if f.mode == 'r':\n",
    "    contents = f.read()\n",
    "    fl = f.readlines()\n",
    "    for x in fl:\n",
    "        print(x)\n",
    "    #print(contents)"
   ]
  },
  {
   "cell_type": "code",
   "execution_count": 93,
   "id": "76ca18fe",
   "metadata": {},
   "outputs": [],
   "source": [
    "import os \n",
    "from os import path \n",
    "import datetime \n",
    "from datetime import date,time,timedelta \n",
    "import time "
   ]
  },
  {
   "cell_type": "code",
   "execution_count": 94,
   "id": "f01a0cd4",
   "metadata": {},
   "outputs": [],
   "source": [
    "def main():\n",
    "    print(os.name)\n",
    "    print(\"Item Exists:\" + str(path.exists(\"textfile.txt\")))\n",
    "    print(\"Item is a file:\" + str(path.isfile(\"textfile.txt\")))\n",
    "    print(\"Item Exists:\" + str(path.isdir(\"textfile.txt\")))\n",
    "    print(\"Item Path:\" + str(path.realpath(\"textfile.txt\")))\n",
    "    print(\"Item Exists:\" + str(path.split(path.realpath(\"textfile.txt\"))))"
   ]
  },
  {
   "cell_type": "code",
   "execution_count": 95,
   "id": "2e8e02b2",
   "metadata": {},
   "outputs": [
    {
     "name": "stdout",
     "output_type": "stream",
     "text": [
      "Fri Sep 10 13:13:51 2021\n"
     ]
    }
   ],
   "source": [
    "t = time.ctime(path.getmtime(\"textfile.txt\"))\n",
    "print(t)"
   ]
  },
  {
   "cell_type": "code",
   "execution_count": 96,
   "id": "ca524f02",
   "metadata": {},
   "outputs": [
    {
     "name": "stdout",
     "output_type": "stream",
     "text": [
      "It has been0:00:00.525827since this file is modified\n"
     ]
    }
   ],
   "source": [
    "td = datetime.datetime.now() - datetime.datetime.fromtimestamp(\n",
    " path.getmtime(\"textfile.txt\")\n",
    ")\n",
    "print(\"It has been\" + str(td) + \"since this file is modified\")"
   ]
  },
  {
   "cell_type": "code",
   "execution_count": 97,
   "id": "a77d59e2",
   "metadata": {},
   "outputs": [],
   "source": [
    "def main():\n",
    "    if path.exists(\"textfile.txt\"):\n",
    "        src = path.realpath(\"textfile.txt\")\n",
    "        dst = src + \".bak\" #backup copy\n",
    "        shutil.copy(src,dst)\n",
    "        shutil.copystat(src,dst)"
   ]
  },
  {
   "cell_type": "markdown",
   "id": "a0ca3be5",
   "metadata": {},
   "source": [
    "# Get data from internet"
   ]
  },
  {
   "cell_type": "code",
   "execution_count": 98,
   "id": "639c14bc",
   "metadata": {},
   "outputs": [],
   "source": [
    "import urllib.request\n",
    "import json\n"
   ]
  },
  {
   "cell_type": "code",
   "execution_count": 99,
   "id": "2c1ca45e",
   "metadata": {},
   "outputs": [],
   "source": [
    "def printResults(data):\n",
    "    theJSON = json.loads(data)\n",
    "    \n",
    "    if \"title\" in theJSON[\"metadata\"]:\n",
    "        print(theJSON[\"metadata\"][\"title\"])\n",
    "\n",
    "    count = theJSON[\"metadata\"][\"count\"]\n",
    "    print(str(count) + \"events recorded\")\n",
    "        \n",
    "        \n",
    "\n",
    "    urlData = \"http://earthquake.usgs.gov/earthquakes/feed/v1.0/summary/2.5_day.geojson\"\n",
    "    webURL = urllib.request.urlopen(urlData)\n",
    "    print(\"result code: \" + str(webUrl.getcode()))\n",
    "    if (webUrl.getcode() == 200):\n",
    "        data = webUrl.read()\n",
    "        printResults(data)\n",
    "    else:\n",
    "        print(\"error\")\n",
    "    \n"
   ]
  },
  {
   "cell_type": "code",
   "execution_count": 101,
   "id": "445e7136",
   "metadata": {},
   "outputs": [
    {
     "ename": "FileNotFoundError",
     "evalue": "[Errno 2] No such file or directory: 'samplehtml.html'",
     "output_type": "error",
     "traceback": [
      "\u001b[0;31m---------------------------------------------------------------------------\u001b[0m",
      "\u001b[0;31mFileNotFoundError\u001b[0m                         Traceback (most recent call last)",
      "\u001b[0;32m<ipython-input-101-ab54ae0744dc>\u001b[0m in \u001b[0;36m<module>\u001b[0;34m\u001b[0m\n\u001b[1;32m      8\u001b[0m \u001b[0;34m\u001b[0m\u001b[0m\n\u001b[1;32m      9\u001b[0m \u001b[0mparser\u001b[0m \u001b[0;34m=\u001b[0m \u001b[0mMyHTMLParser\u001b[0m\u001b[0;34m(\u001b[0m\u001b[0;34m)\u001b[0m\u001b[0;34m\u001b[0m\u001b[0;34m\u001b[0m\u001b[0m\n\u001b[0;32m---> 10\u001b[0;31m \u001b[0mf\u001b[0m \u001b[0;34m=\u001b[0m \u001b[0mopen\u001b[0m\u001b[0;34m(\u001b[0m\u001b[0;34m\"samplehtml.html\"\u001b[0m\u001b[0;34m)\u001b[0m\u001b[0;34m\u001b[0m\u001b[0;34m\u001b[0m\u001b[0m\n\u001b[0m\u001b[1;32m     11\u001b[0m \u001b[0;32mif\u001b[0m \u001b[0mf\u001b[0m\u001b[0;34m.\u001b[0m\u001b[0mmode\u001b[0m \u001b[0;34m==\u001b[0m \u001b[0;34m\"r\"\u001b[0m\u001b[0;34m:\u001b[0m\u001b[0;34m\u001b[0m\u001b[0;34m\u001b[0m\u001b[0m\n\u001b[1;32m     12\u001b[0m     \u001b[0mcontents\u001b[0m \u001b[0;34m=\u001b[0m \u001b[0mf\u001b[0m\u001b[0;34m.\u001b[0m\u001b[0mread\u001b[0m\u001b[0;34m\u001b[0m\u001b[0;34m\u001b[0m\u001b[0m\n",
      "\u001b[0;31mFileNotFoundError\u001b[0m: [Errno 2] No such file or directory: 'samplehtml.html'"
     ]
    }
   ],
   "source": [
    "class MyHTMLParser(HTMLParser):\n",
    "    \n",
    "    def handle_comment(self,data):\n",
    "        print(\"encountered data\",data)\n",
    "        pos = self.getpos()\n",
    "        print(\"\\tAt line: \",pos[0],\"position\",pos[1])\n",
    "    \n",
    "    \n",
    "parser = MyHTMLParser()\n",
    "f = open(\"samplehtml.html\")\n",
    "if f.mode == \"r\":\n",
    "    contents = f.read\n",
    "    parser.feed(contents)\n",
    "    "
   ]
  },
  {
   "cell_type": "code",
   "execution_count": null,
   "id": "2823196e",
   "metadata": {},
   "outputs": [],
   "source": []
  },
  {
   "cell_type": "code",
   "execution_count": null,
   "id": "5fdac75e",
   "metadata": {},
   "outputs": [],
   "source": []
  }
 ],
 "metadata": {
  "kernelspec": {
   "display_name": "Python 3",
   "language": "python",
   "name": "python3"
  },
  "language_info": {
   "codemirror_mode": {
    "name": "ipython",
    "version": 3
   },
   "file_extension": ".py",
   "mimetype": "text/x-python",
   "name": "python",
   "nbconvert_exporter": "python",
   "pygments_lexer": "ipython3",
   "version": "3.8.8"
  }
 },
 "nbformat": 4,
 "nbformat_minor": 5
}
