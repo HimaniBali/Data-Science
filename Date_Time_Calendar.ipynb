{
 "cells": [
  {
   "cell_type": "code",
   "execution_count": 116,
   "id": "fb017e5e",
   "metadata": {},
   "outputs": [],
   "source": [
    "import calendar"
   ]
  },
  {
   "cell_type": "code",
   "execution_count": 62,
   "id": "f13de6f7",
   "metadata": {},
   "outputs": [],
   "source": [
    "import math"
   ]
  },
  {
   "cell_type": "code",
   "execution_count": 83,
   "id": "0ec59de9",
   "metadata": {},
   "outputs": [],
   "source": [
    "from datetime import date\n",
    "from datetime import time \n",
    "from datetime import datetime\n",
    "from datetime import timedelta"
   ]
  },
  {
   "cell_type": "code",
   "execution_count": 73,
   "id": "23fb5e3b",
   "metadata": {},
   "outputs": [
    {
     "name": "stdout",
     "output_type": "stream",
     "text": [
      "Today is 7 9 2021\n",
      "Weekday is 1\n",
      "which is a:  tue\n"
     ]
    }
   ],
   "source": [
    "    today = date.today()\n",
    "    print(\"Today is\", today.day, today.month, today.year)\n",
    "    print(\"Weekday is\", today.weekday())\n",
    "    days = [\"mon\",\"tue\",\"wed\",\"thu\",\"fri\",\"sun\",\"sat\"]\n",
    "    print(\"which is a: \", days[today.weekday()])"
   ]
  },
  {
   "cell_type": "code",
   "execution_count": 65,
   "id": "a80c091e",
   "metadata": {},
   "outputs": [
    {
     "name": "stdout",
     "output_type": "stream",
     "text": [
      "The square root of 16 is  4.0\n",
      "Pi is  3.141592653589793\n"
     ]
    }
   ],
   "source": [
    "print(\"The square root of 16 is \", math.sqrt(16))\n",
    "print(\"Pi is \", math.pi)"
   ]
  },
  {
   "cell_type": "code",
   "execution_count": 2,
   "id": "c0354c45",
   "metadata": {},
   "outputs": [
    {
     "name": "stdout",
     "output_type": "stream",
     "text": [
      "hello world\n",
      "what is your name?Himani\n",
      "Nice to meet you Himani\n"
     ]
    }
   ],
   "source": [
    "print(\"hello world\")\n",
    "name = input(\"what is your name?\")\n",
    "print(\"Nice to meet you\", name)"
   ]
  },
  {
   "cell_type": "code",
   "execution_count": 4,
   "id": "045daa1e",
   "metadata": {},
   "outputs": [
    {
     "name": "stdout",
     "output_type": "stream",
     "text": [
      "hello world\n",
      "what is your name?Himani\n",
      "Nice to meet you Himani\n"
     ]
    }
   ],
   "source": [
    "def main():\n",
    "    print(\"hello world\")\n",
    "    name = input(\"what is your name?\")\n",
    "    print(\"Nice to meet you\", name)\n",
    "    \n",
    "if __name__ == \"__main__\":\n",
    "    main()\n",
    "    "
   ]
  },
  {
   "cell_type": "code",
   "execution_count": 5,
   "id": "04a67388",
   "metadata": {},
   "outputs": [
    {
     "name": "stdout",
     "output_type": "stream",
     "text": [
      "0\n"
     ]
    }
   ],
   "source": [
    "F = 0 \n",
    "print(F)"
   ]
  },
  {
   "cell_type": "code",
   "execution_count": 19,
   "id": "5fe16f91",
   "metadata": {},
   "outputs": [
    {
     "name": "stdout",
     "output_type": "stream",
     "text": [
      "abc\n",
      "this is a string 123\n"
     ]
    }
   ],
   "source": [
    "F = \"abc\"\n",
    "print(F)\n",
    "print(\"this is a string\" + \" \" + str(123))"
   ]
  },
  {
   "cell_type": "code",
   "execution_count": 20,
   "id": "a7e698fd",
   "metadata": {},
   "outputs": [
    {
     "name": "stdout",
     "output_type": "stream",
     "text": [
      "def\n",
      "abc\n"
     ]
    }
   ],
   "source": [
    "def some():\n",
    "    global f\n",
    "    F = \"def\"\n",
    "    print(F)\n",
    "some()\n",
    "print(F)"
   ]
  },
  {
   "cell_type": "code",
   "execution_count": 17,
   "id": "eb5a2f1e",
   "metadata": {},
   "outputs": [],
   "source": [
    "del F"
   ]
  },
  {
   "cell_type": "code",
   "execution_count": 22,
   "id": "b0e43d56",
   "metadata": {},
   "outputs": [
    {
     "name": "stdout",
     "output_type": "stream",
     "text": [
      "I am a function\n",
      "I am a function\n",
      "None\n",
      "<function fun1 at 0x7f9b75143550>\n"
     ]
    }
   ],
   "source": [
    "def fun1():\n",
    "    print(\"I am a function\")\n",
    "    \n",
    "fun1()\n",
    "print(fun1()) #value is not defined, hence prints i am a function and none\n",
    "print(fun1) #type is printed, which is function "
   ]
  },
  {
   "cell_type": "code",
   "execution_count": 24,
   "id": "c786a8dd",
   "metadata": {},
   "outputs": [
    {
     "name": "stdout",
     "output_type": "stream",
     "text": [
      "10   20\n",
      "10   20\n",
      "None\n",
      "27\n"
     ]
    }
   ],
   "source": [
    "def func2 (arg1,arg2):\n",
    "    print(arg1, \" \", arg2)\n",
    "    \n",
    "def cube(x):\n",
    "    return x*x*x\n",
    "\n",
    "\n",
    "func2 (10,20)\n",
    "print(func2(10,20)) #no return value from func2\n",
    "print(cube(3))"
   ]
  },
  {
   "cell_type": "code",
   "execution_count": 26,
   "id": "486ea775",
   "metadata": {},
   "outputs": [
    {
     "name": "stdout",
     "output_type": "stream",
     "text": [
      "<function power at 0x7f9b75143b80>\n"
     ]
    }
   ],
   "source": [
    "def power(num, x=1):\n",
    "    for i in range(x):\n",
    "        result = result * num \n",
    "        return result \n",
    "print(power)"
   ]
  },
  {
   "cell_type": "code",
   "execution_count": 41,
   "id": "22a204a2",
   "metadata": {},
   "outputs": [],
   "source": [
    "def main():\n",
    "    x,y = 10,100\n",
    "    \n",
    "    if (x < y):\n",
    "        st = \"x is less than y\"\n",
    "        \n",
    "    elif (x == y):\n",
    "        st = \" x is equal to y\"\n",
    "        \n",
    "    else: \n",
    "        st = \"x is greater than y\"\n",
    "        \n",
    "    print(st)\n",
    "    \n",
    "    st = \"x is less than y\" if (x<y) else \"x is greater or same as y \""
   ]
  },
  {
   "cell_type": "code",
   "execution_count": 42,
   "id": "dcb94c34",
   "metadata": {},
   "outputs": [],
   "source": [
    "\n",
    "    x = 0\n",
    "    \n",
    "    while (x<5):\n",
    "        print(x)\n",
    "        x = x+1"
   ]
  },
  {
   "cell_type": "markdown",
   "id": "b2750cfd",
   "metadata": {},
   "source": [
    "https://www.google.com/search?q=big+data+developer+job+description&rlz=1C5CHFA_enAE894AE894&source=lnms&tbm=isch&sa=X&ved=2ahUKEwj_grn8h-ryAhUSkhQKHROtBLEQ_AUoAXoECAEQAw&biw=1440&bih=789#imgrc=wpI9GkFhwDx_1M"
   ]
  },
  {
   "cell_type": "code",
   "execution_count": 47,
   "id": "4a4238e7",
   "metadata": {},
   "outputs": [
    {
     "name": "stdout",
     "output_type": "stream",
     "text": [
      "5\n",
      "6\n",
      "7\n",
      "8\n",
      "9\n"
     ]
    }
   ],
   "source": [
    "\n",
    "    x=0\n",
    "    for x in range (5,10):\n",
    "        print(x)\n",
    "    "
   ]
  },
  {
   "cell_type": "code",
   "execution_count": 46,
   "id": "b1f96988",
   "metadata": {},
   "outputs": [
    {
     "name": "stdout",
     "output_type": "stream",
     "text": [
      "Saturday\n",
      "Sunday\n",
      "Monday\n"
     ]
    }
   ],
   "source": [
    "days = [\"Saturday\",\"Sunday\",\"Monday\"]\n",
    "for d in days:\n",
    "    print(d)"
   ]
  },
  {
   "cell_type": "code",
   "execution_count": 51,
   "id": "25884de9",
   "metadata": {},
   "outputs": [
    {
     "name": "stdout",
     "output_type": "stream",
     "text": [
      "5\n",
      "7\n",
      "9\n"
     ]
    }
   ],
   "source": [
    "for x in range (5,10):\n",
    "    if (x % 2 == 0): continue\n",
    "    print(x)"
   ]
  },
  {
   "cell_type": "code",
   "execution_count": 53,
   "id": "1f422681",
   "metadata": {},
   "outputs": [
    {
     "name": "stdout",
     "output_type": "stream",
     "text": [
      "0 Saturday\n",
      "1 Sunday\n",
      "2 Monday\n",
      "3 Tuesday\n",
      "4 Wednesday\n",
      "5 Thursday\n",
      "6 Friday\n"
     ]
    }
   ],
   "source": [
    "days = [\"Saturday\",\"Sunday\",\"Monday\",\"Tuesday\",\"Wednesday\",\"Thursday\",\"Friday\"]\n",
    "\n",
    "for i,d in enumerate(days):\n",
    "    print(i,d) #print index and items of the array \n",
    "    "
   ]
  },
  {
   "cell_type": "code",
   "execution_count": 61,
   "id": "cbbd3038",
   "metadata": {},
   "outputs": [],
   "source": [
    "class myclass():\n",
    "    def method1(self):\n",
    "        print(\"1\")\n",
    "        \n",
    "    def method2(self,somestring):\n",
    "        print(\"2\"+ somestring)\n",
    "        \n",
    "class anotherclass(myclass):\n",
    "    def method1(self):\n",
    "        myclass.method1(self)\n",
    "        \n",
    "        \n",
    "def main():\n",
    "    c = myclass()\n",
    "    c.method1()\n",
    "    c.method2(\"This is a string\")\n",
    "        \n",
    "    c2 = anotherclass()\n",
    "    c2.method1()\n",
    "        \n",
    "if __name__ == \" __main__\":\n",
    "    main()"
   ]
  },
  {
   "cell_type": "code",
   "execution_count": 74,
   "id": "ebae24ae",
   "metadata": {},
   "outputs": [
    {
     "name": "stdout",
     "output_type": "stream",
     "text": [
      "the current date & time is 2021-09-07 01:35:01.054477\n"
     ]
    }
   ],
   "source": [
    "today = datetime.now()\n",
    "print(\"the current date & time is\", today)"
   ]
  },
  {
   "cell_type": "code",
   "execution_count": 80,
   "id": "6fbbf3df",
   "metadata": {},
   "outputs": [
    {
     "name": "stdout",
     "output_type": "stream",
     "text": [
      "The current year is: 2021 \n",
      "Tue, 07, September, 21\n",
      "Local Data & Time: Tue Sep  7 13:16:10 2021 \n",
      "Local Data & Time: 09/07/21 \n",
      "Local Data & Time: 13:16:10 \n"
     ]
    }
   ],
   "source": [
    "from datetime import datetime\n",
    "now = datetime.now()\n",
    "print(now.strftime(\"The current year is: %Y \"))\n",
    "print(now.strftime(\"%a, %d, %B, %y\"))\n",
    "print(now.strftime(\"Local Data & Time: %c \"))\n",
    "print(now.strftime(\"Local Data & Time: %x \"))\n",
    "print(now.strftime(\"Local Data & Time: %X \"))"
   ]
  },
  {
   "cell_type": "code",
   "execution_count": 81,
   "id": "45e7a8b2",
   "metadata": {},
   "outputs": [
    {
     "name": "stdout",
     "output_type": "stream",
     "text": [
      "01:16:10 PM\n"
     ]
    }
   ],
   "source": [
    "print(now.strftime(\"%I:%M:%S %p\"))"
   ]
  },
  {
   "cell_type": "code",
   "execution_count": 82,
   "id": "1a8ed04a",
   "metadata": {},
   "outputs": [
    {
     "name": "stdout",
     "output_type": "stream",
     "text": [
      "13:16\n"
     ]
    }
   ],
   "source": [
    "print(now.strftime(\"%H:%M\"))"
   ]
  },
  {
   "cell_type": "code",
   "execution_count": 84,
   "id": "7fa2a29b",
   "metadata": {},
   "outputs": [
    {
     "name": "stdout",
     "output_type": "stream",
     "text": [
      "365 days, 5:01:00\n"
     ]
    }
   ],
   "source": [
    "print(timedelta(days=365,hours=5, minutes=1))"
   ]
  },
  {
   "cell_type": "code",
   "execution_count": 85,
   "id": "9f849884",
   "metadata": {},
   "outputs": [
    {
     "name": "stdout",
     "output_type": "stream",
     "text": [
      "today is :2021-09-07 13:50:57.089259\n"
     ]
    }
   ],
   "source": [
    "now = datetime.now()\n",
    "print(\"today is :\" + str(now))"
   ]
  },
  {
   "cell_type": "code",
   "execution_count": 86,
   "id": "e679b7c7",
   "metadata": {},
   "outputs": [
    {
     "name": "stdout",
     "output_type": "stream",
     "text": [
      "one year from now2022-09-07 13:50:57.089259\n"
     ]
    }
   ],
   "source": [
    "print(\"one year from now\" +str(now + timedelta(days=365)))"
   ]
  },
  {
   "cell_type": "code",
   "execution_count": 87,
   "id": "12319454",
   "metadata": {},
   "outputs": [
    {
     "name": "stdout",
     "output_type": "stream",
     "text": [
      "in 2 days and 3 weeks it will be2021-09-30 13:50:57.089259\n"
     ]
    }
   ],
   "source": [
    "print(\"in 2 days and 3 weeks it will be\" + str(now + timedelta(days=2, weeks =3)))"
   ]
  },
  {
   "cell_type": "code",
   "execution_count": 88,
   "id": "9cb8d5f1",
   "metadata": {},
   "outputs": [
    {
     "name": "stdout",
     "output_type": "stream",
     "text": [
      "365 days, 5:01:00\n"
     ]
    }
   ],
   "source": [
    "print(timedelta(days=365, hours=5, minutes=1))"
   ]
  },
  {
   "cell_type": "code",
   "execution_count": 91,
   "id": "04f4ec90",
   "metadata": {},
   "outputs": [
    {
     "name": "stdout",
     "output_type": "stream",
     "text": [
      "one week ago it was :Tuesday August 31,2021\n"
     ]
    }
   ],
   "source": [
    "t = datetime.now() - timedelta(weeks=1)\n",
    "s = t.strftime(\"%A %B %d,%Y\")\n",
    "print(\"one week ago it was :\"+ s)"
   ]
  },
  {
   "cell_type": "code",
   "execution_count": 103,
   "id": "a15864fe",
   "metadata": {},
   "outputs": [
    {
     "name": "stdout",
     "output_type": "stream",
     "text": [
      "    January 2017\n",
      "Su Mo Tu We Th Fr Sa\n",
      " 1  2  3  4  5  6  7\n",
      " 8  9 10 11 12 13 14\n",
      "15 16 17 18 19 20 21\n",
      "22 23 24 25 26 27 28\n",
      "29 30 31\n",
      "\n"
     ]
    }
   ],
   "source": [
    "c = calendar.TextCalendar(calendar.SUNDAY)\n",
    "st = c.formatmonth(2017,1,0,0) #format into a month \n",
    "print(st)\n"
   ]
  },
  {
   "cell_type": "code",
   "execution_count": 104,
   "id": "57cde4ae",
   "metadata": {},
   "outputs": [
    {
     "name": "stdout",
     "output_type": "stream",
     "text": [
      "<table border=\"0\" cellpadding=\"0\" cellspacing=\"0\" class=\"month\">\n",
      "<tr><th colspan=\"7\" class=\"month\">January 2017</th></tr>\n",
      "<tr><th class=\"sun\">Sun</th><th class=\"mon\">Mon</th><th class=\"tue\">Tue</th><th class=\"wed\">Wed</th><th class=\"thu\">Thu</th><th class=\"fri\">Fri</th><th class=\"sat\">Sat</th></tr>\n",
      "<tr><td class=\"sun\">1</td><td class=\"mon\">2</td><td class=\"tue\">3</td><td class=\"wed\">4</td><td class=\"thu\">5</td><td class=\"fri\">6</td><td class=\"sat\">7</td></tr>\n",
      "<tr><td class=\"sun\">8</td><td class=\"mon\">9</td><td class=\"tue\">10</td><td class=\"wed\">11</td><td class=\"thu\">12</td><td class=\"fri\">13</td><td class=\"sat\">14</td></tr>\n",
      "<tr><td class=\"sun\">15</td><td class=\"mon\">16</td><td class=\"tue\">17</td><td class=\"wed\">18</td><td class=\"thu\">19</td><td class=\"fri\">20</td><td class=\"sat\">21</td></tr>\n",
      "<tr><td class=\"sun\">22</td><td class=\"mon\">23</td><td class=\"tue\">24</td><td class=\"wed\">25</td><td class=\"thu\">26</td><td class=\"fri\">27</td><td class=\"sat\">28</td></tr>\n",
      "<tr><td class=\"sun\">29</td><td class=\"mon\">30</td><td class=\"tue\">31</td><td class=\"noday\">&nbsp;</td><td class=\"noday\">&nbsp;</td><td class=\"noday\">&nbsp;</td><td class=\"noday\">&nbsp;</td></tr>\n",
      "</table>\n",
      "\n"
     ]
    }
   ],
   "source": [
    "hc = calendar.HTMLCalendar(calendar.SUNDAY)\n",
    "st = hc.formatmonth(2017,1)\n",
    "print(st)"
   ]
  },
  {
   "cell_type": "code",
   "execution_count": 108,
   "id": "04fff023",
   "metadata": {},
   "outputs": [
    {
     "name": "stdout",
     "output_type": "stream",
     "text": [
      "0\n",
      "0\n",
      "1\n",
      "2\n",
      "3\n",
      "4\n",
      "5\n",
      "6\n",
      "7\n",
      "8\n",
      "9\n",
      "10\n",
      "11\n",
      "12\n",
      "13\n",
      "14\n",
      "15\n",
      "16\n",
      "17\n",
      "18\n",
      "19\n",
      "20\n",
      "21\n",
      "22\n",
      "23\n",
      "24\n",
      "25\n",
      "26\n",
      "27\n",
      "28\n",
      "29\n",
      "30\n",
      "31\n",
      "0\n",
      "0\n"
     ]
    }
   ],
   "source": [
    "c = calendar.TextCalendar(calendar.SUNDAY)\n",
    "for i in c.itermonthdays(2017,8):\n",
    "    print(i)\n"
   ]
  },
  {
   "cell_type": "code",
   "execution_count": 109,
   "id": "e1b86737",
   "metadata": {},
   "outputs": [
    {
     "name": "stdout",
     "output_type": "stream",
     "text": [
      "\n",
      "January\n",
      "February\n",
      "March\n",
      "April\n",
      "May\n",
      "June\n",
      "July\n",
      "August\n",
      "September\n",
      "October\n",
      "November\n",
      "December\n"
     ]
    }
   ],
   "source": [
    "for name in calendar.month_name:\n",
    "    print(name)"
   ]
  },
  {
   "cell_type": "code",
   "execution_count": 110,
   "id": "7b1eaf89",
   "metadata": {},
   "outputs": [
    {
     "name": "stdout",
     "output_type": "stream",
     "text": [
      "Monday\n",
      "Tuesday\n",
      "Wednesday\n",
      "Thursday\n",
      "Friday\n",
      "Saturday\n",
      "Sunday\n"
     ]
    }
   ],
   "source": [
    "for day in calendar.day_name:\n",
    "    print(day)"
   ]
  },
  {
   "cell_type": "code",
   "execution_count": 129,
   "id": "be317fb2",
   "metadata": {},
   "outputs": [
    {
     "name": "stdout",
     "output_type": "stream",
     "text": [
      "Team meetings be on: \n",
      "('January', 5)\n",
      "('February', 2)\n",
      "('March', 2)\n",
      "('April', 6)\n",
      "('May', 4)\n",
      "('June', 1)\n",
      "('July', 6)\n",
      "('August', 3)\n",
      "('September', 7)\n",
      "('October', 5)\n",
      "('November', 2)\n",
      "('December', 7)\n"
     ]
    }
   ],
   "source": [
    "print(\"Team meetings be on: \")\n",
    "for m in range(1,13):\n",
    "    cal = calendar.monthcalendar(2018,m)\n",
    "    weekone = cal[0]\n",
    "    weektwo = cal[1]\n",
    "    \n",
    "    if weekone[calendar.FRIDAY]!= 0:\n",
    "        meetday = weekone[calendar.FRIDAY]\n",
    "    else:\n",
    "        meetday = weektwo[calendar.FRIDAY]\n",
    "    print((calendar.month_name[m], meetday))\n",
    "    "
   ]
  },
  {
   "cell_type": "code",
   "execution_count": 120,
   "id": "097e5e63",
   "metadata": {},
   "outputs": [
    {
     "name": "stdout",
     "output_type": "stream",
     "text": [
      "    January 2017\n",
      "Mo Tu We Th Fr Sa Su\n",
      "                   1\n",
      " 2  3  4  5  6  7  8\n",
      " 9 10 11 12 13 14 15\n",
      "16 17 18 19 20 21 22\n",
      "23 24 25 26 27 28 29\n",
      "30 31\n",
      "\n"
     ]
    }
   ],
   "source": [
    "c = calendar.TextCalendar(calendar.MONDAY)\n",
    "st = c.formatmonth(2017,1,0,0)\n",
    "print(st)\n"
   ]
  },
  {
   "cell_type": "code",
   "execution_count": 124,
   "id": "f32f6010",
   "metadata": {},
   "outputs": [
    {
     "name": "stdout",
     "output_type": "stream",
     "text": [
      "<table border=\"0\" cellpadding=\"0\" cellspacing=\"0\" class=\"month\">\n",
      "<tr><th colspan=\"7\" class=\"month\">January 2017</th></tr>\n",
      "<tr><th class=\"sun\">Sun</th><th class=\"mon\">Mon</th><th class=\"tue\">Tue</th><th class=\"wed\">Wed</th><th class=\"thu\">Thu</th><th class=\"fri\">Fri</th><th class=\"sat\">Sat</th></tr>\n",
      "<tr><td class=\"sun\">1</td><td class=\"mon\">2</td><td class=\"tue\">3</td><td class=\"wed\">4</td><td class=\"thu\">5</td><td class=\"fri\">6</td><td class=\"sat\">7</td></tr>\n",
      "<tr><td class=\"sun\">8</td><td class=\"mon\">9</td><td class=\"tue\">10</td><td class=\"wed\">11</td><td class=\"thu\">12</td><td class=\"fri\">13</td><td class=\"sat\">14</td></tr>\n",
      "<tr><td class=\"sun\">15</td><td class=\"mon\">16</td><td class=\"tue\">17</td><td class=\"wed\">18</td><td class=\"thu\">19</td><td class=\"fri\">20</td><td class=\"sat\">21</td></tr>\n",
      "<tr><td class=\"sun\">22</td><td class=\"mon\">23</td><td class=\"tue\">24</td><td class=\"wed\">25</td><td class=\"thu\">26</td><td class=\"fri\">27</td><td class=\"sat\">28</td></tr>\n",
      "<tr><td class=\"sun\">29</td><td class=\"mon\">30</td><td class=\"tue\">31</td><td class=\"noday\">&nbsp;</td><td class=\"noday\">&nbsp;</td><td class=\"noday\">&nbsp;</td><td class=\"noday\">&nbsp;</td></tr>\n",
      "</table>\n",
      "\n"
     ]
    }
   ],
   "source": [
    "hc = calendar.HTMLCalendar(calendar.SUNDAY)\n",
    "st = hc.formatmonth(2017,1)\n",
    "print(st)"
   ]
  },
  {
   "cell_type": "code",
   "execution_count": 125,
   "id": "7deae373",
   "metadata": {},
   "outputs": [
    {
     "name": "stdout",
     "output_type": "stream",
     "text": [
      "0\n",
      "1\n",
      "2\n",
      "3\n",
      "4\n",
      "5\n",
      "6\n",
      "7\n",
      "8\n",
      "9\n",
      "10\n",
      "11\n",
      "12\n",
      "13\n",
      "14\n",
      "15\n",
      "16\n",
      "17\n",
      "18\n",
      "19\n",
      "20\n",
      "21\n",
      "22\n",
      "23\n",
      "24\n",
      "25\n",
      "26\n",
      "27\n",
      "28\n",
      "29\n",
      "30\n",
      "31\n",
      "0\n",
      "0\n",
      "0\n"
     ]
    }
   ],
   "source": [
    "for i in c.itermonthdays(2017,8):\n",
    "    print(i)\n"
   ]
  },
  {
   "cell_type": "code",
   "execution_count": 126,
   "id": "49c38410",
   "metadata": {},
   "outputs": [
    {
     "name": "stdout",
     "output_type": "stream",
     "text": [
      "\n",
      "January\n",
      "February\n",
      "March\n",
      "April\n",
      "May\n",
      "June\n",
      "July\n",
      "August\n",
      "September\n",
      "October\n",
      "November\n",
      "December\n",
      "Monday\n",
      "Tuesday\n",
      "Wednesday\n",
      "Thursday\n",
      "Friday\n",
      "Saturday\n",
      "Sunday\n"
     ]
    }
   ],
   "source": [
    "for name in calendar.month_name:\n",
    "    print(name)\n",
    "for day in calendar.day_name:\n",
    "    print(day)"
   ]
  },
  {
   "cell_type": "code",
   "execution_count": null,
   "id": "258c81ae",
   "metadata": {},
   "outputs": [],
   "source": []
  }
 ],
 "metadata": {
  "kernelspec": {
   "display_name": "Python 3",
   "language": "python",
   "name": "python3"
  },
  "language_info": {
   "codemirror_mode": {
    "name": "ipython",
    "version": 3
   },
   "file_extension": ".py",
   "mimetype": "text/x-python",
   "name": "python",
   "nbconvert_exporter": "python",
   "pygments_lexer": "ipython3",
   "version": "3.8.8"
  }
 },
 "nbformat": 4,
 "nbformat_minor": 5
}
